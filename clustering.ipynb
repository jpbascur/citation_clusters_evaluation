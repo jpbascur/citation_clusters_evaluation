{
 "cells": [
  {
   "cell_type": "code",
   "execution_count": 1,
   "metadata": {},
   "outputs": [],
   "source": [
    "import time\n",
    "import pickle\n",
    "\n",
    "import functions_reading as reading\n",
    "import functions_iterative_clustering as iterative_clustering\n",
    "import functions_metrics as metrics\n",
    "import functions_select_cluster as select_cluster\n",
    "\n",
    "def c_Cs_D(year, refferences_d, path_network, initial_resolution, clusters_per_level, max_depth, resolution_factor, beta_l, encoding=None, errors=None):\n",
    "    \"\"\"Create the base of the clustering solution dictionary\n",
    "\n",
    "    Parameters\n",
    "    ----------\n",
    "    year : int\n",
    "        Publication year of the systematic reviews. It is used for retrieving the references of the systematic reviews.\n",
    "        \n",
    "    refferences_d : dict\n",
    "        Dictionary with the references of each topic.\n",
    "        \n",
    "    path_network : str\n",
    "        Path of the file of the network.\n",
    "        \n",
    "    initial_resolution : float\n",
    "        Resolution of the clustering algorithm in the first level.\n",
    "    \n",
    "    clusters_per_level : int\n",
    "        Maximum number of clusters per branch per level (including the initial level).\n",
    "        \n",
    "    max_depth : int\n",
    "        Lowest level of the clustering\n",
    "        \n",
    "    resolution_factor : float\n",
    "        Factor by which the value of the resolution increases at each level.\n",
    "        \n",
    "    encoding : str, optional\n",
    "        Parameter of p_Tab_Delimited()\n",
    "    \n",
    "    errors : str, optional\n",
    "        Parameter of p_Tab_Delimited()\n",
    "    \n",
    "    Returns\n",
    "    -------\n",
    "    cs : dict\n",
    "        Dictionary with the data of the clustering solution.\n",
    "    \n",
    "    Notes\n",
    "    -------\n",
    "    t_references_d = dict of set (int -> set -> int). It only contains the references of the systematic reviews published on the year 'year'\n",
    "    \"\"\"\n",
    "    cs = {}\n",
    "    cs['YEAR'] = year\n",
    "    cs['INITIAL_RESOLUTION'] = initial_resolution\n",
    "    cs['CLUSTERS_PER_LEVEL'] = clusters_per_level\n",
    "    cs['PATH_NETWORK'] = path_network\n",
    "    cs['t_references_d'] = refferences_d\n",
    "    tab_del_net = reading.p_Tab_Delimited(path_network)\n",
    "    cs['parsed_network'] = reading.parse_Network(tab_del_net)\n",
    "    cs['igraph_network'] = reading.create_Igraph_Network(cs['parsed_network'])\n",
    "    cs['max_depth'] = max_depth\n",
    "    cs['resolution_factor'] = resolution_factor\n",
    "    cs['beta_l'] = beta_l\n",
    "    return cs\n",
    "\n",
    "# TO DO: document this functions\n",
    "\n",
    "def pipeline_Clustering(year, refferences_d, path_network, initial_resolution=0.000002, clusters_per_level=10, max_depth=13, resolution_factor=3.0, beta_l=[0.125, 0.25, 0.5, 1.0, 2.0, 4.0, 8.0], encoding=None, errors=None):\n",
    "    cs = c_Cs_D(year, refferences_d, path_network, initial_resolution, clusters_per_level, max_depth, resolution_factor, beta_l, encoding=encoding, errors=errors)\n",
    "    cs['level_data'], ITERATIONS_COUNT = iterative_clustering.c_Clus_Recursion(cs['igraph_network'], cs['INITIAL_RESOLUTION'], 0, cs['max_depth'], cs['CLUSTERS_PER_LEVEL'], cs['t_references_d'], cs['resolution_factor'], 0)\n",
    "    cs['level_data']['ITERATIONS_COUNT'] = ITERATIONS_COUNT\n",
    "    cs['level_data'] = metrics.c_Metric_Recursion(cs['level_data'], cs['t_references_d'], cs['beta_l'])\n",
    "    cs['t_greedy_data'] = select_cluster.c_T_Greedy_D(cs['level_data'], cs['t_references_d'], cs['beta_l'])\n",
    "    cs['t_universal_fscore'] = select_cluster.c_T_Universal_Fscore_D(cs['t_references_d'], cs['beta_l'], cs['level_data'])\n",
    "    return cs"
   ]
  },
  {
   "cell_type": "code",
   "execution_count": 2,
   "metadata": {},
   "outputs": [],
   "source": [
    "f = reading.p_Tab_Delimited('PAPER2_topic_year_netid_TEST.txt')\n",
    "f_clean = [[int(row[0]), int(row[1]), int(row[2])] for row in f]\n",
    "test_ref = reading.parse_2_Level_D(f_clean)\n",
    "for a in test_ref:\n",
    "    for b in test_ref[a]:\n",
    "        test_ref[a][b] = set(test_ref[a][b])"
   ]
  },
  {
   "cell_type": "code",
   "execution_count": 3,
   "metadata": {},
   "outputs": [
    {
     "name": "stdout",
     "output_type": "stream",
     "text": [
      "28.295661211013794\n"
     ]
    }
   ],
   "source": [
    "mtime = time.time()\n",
    "cs_test = pipeline_Clustering(1, test_ref[1], 'PAPER2_nid1_nid2_TEST.txt')\n",
    "print(time.time() - mtime)"
   ]
  },
  {
   "cell_type": "code",
   "execution_count": 4,
   "metadata": {},
   "outputs": [],
   "source": [
    "f = open('clean_ref.pickle', 'rb')\n",
    "year_topic_retrieved_d = pickle.load(f)\n",
    "f.close()\n",
    "year_references_d = {}\n",
    "for year in year_topic_retrieved_d:\n",
    "    year_references_d[year] = {}\n",
    "    for topic in year_topic_retrieved_d[year]:\n",
    "        year_references_d[year][topic] = set(year_topic_retrieved_d[year][topic]['positives_retrieved_in_net'])"
   ]
  },
  {
   "cell_type": "code",
   "execution_count": 5,
   "metadata": {},
   "outputs": [
    {
     "name": "stdout",
     "output_type": "stream",
     "text": [
      "3574.3791427612305\n"
     ]
    },
    {
     "ename": "OSError",
     "evalue": "[Errno 22] Invalid argument",
     "output_type": "error",
     "traceback": [
      "\u001b[1;31m---------------------------------------------------------------------------\u001b[0m",
      "\u001b[1;31mOSError\u001b[0m                                   Traceback (most recent call last)",
      "\u001b[1;32m<ipython-input-5-d40ea40fe123>\u001b[0m in \u001b[0;36m<module>\u001b[1;34m\u001b[0m\n\u001b[0;32m      4\u001b[0m \u001b[0mmtime\u001b[0m \u001b[1;33m=\u001b[0m \u001b[0mtime\u001b[0m\u001b[1;33m.\u001b[0m\u001b[0mtime\u001b[0m\u001b[1;33m(\u001b[0m\u001b[1;33m)\u001b[0m\u001b[1;33m\u001b[0m\u001b[1;33m\u001b[0m\u001b[0m\n\u001b[0;32m      5\u001b[0m \u001b[0mf\u001b[0m \u001b[1;33m=\u001b[0m \u001b[0mopen\u001b[0m\u001b[1;33m(\u001b[0m\u001b[1;34m'cs_2014.pickle'\u001b[0m\u001b[1;33m,\u001b[0m \u001b[1;34m'wb'\u001b[0m\u001b[1;33m)\u001b[0m\u001b[1;33m\u001b[0m\u001b[1;33m\u001b[0m\u001b[0m\n\u001b[1;32m----> 6\u001b[1;33m \u001b[0mpickle\u001b[0m\u001b[1;33m.\u001b[0m\u001b[0mdump\u001b[0m\u001b[1;33m(\u001b[0m\u001b[0mcs_2014\u001b[0m\u001b[1;33m,\u001b[0m \u001b[0mf\u001b[0m\u001b[1;33m)\u001b[0m\u001b[1;33m\u001b[0m\u001b[1;33m\u001b[0m\u001b[0m\n\u001b[0m\u001b[0;32m      7\u001b[0m \u001b[0mf\u001b[0m\u001b[1;33m.\u001b[0m\u001b[0mclose\u001b[0m\u001b[1;33m(\u001b[0m\u001b[1;33m)\u001b[0m\u001b[1;33m\u001b[0m\u001b[1;33m\u001b[0m\u001b[0m\n\u001b[0;32m      8\u001b[0m \u001b[0mprint\u001b[0m\u001b[1;33m(\u001b[0m\u001b[0mtime\u001b[0m\u001b[1;33m.\u001b[0m\u001b[0mtime\u001b[0m\u001b[1;33m(\u001b[0m\u001b[1;33m)\u001b[0m \u001b[1;33m-\u001b[0m \u001b[0mmtime\u001b[0m\u001b[1;33m)\u001b[0m\u001b[1;33m\u001b[0m\u001b[1;33m\u001b[0m\u001b[0m\n",
      "\u001b[1;31mOSError\u001b[0m: [Errno 22] Invalid argument"
     ]
    }
   ],
   "source": [
    "mtime = time.time()\n",
    "cs_2014 = pipeline_Clustering(2014, year_references_d[2014], 'PAPER2_nid1_nid2_YEAR_2003_2013.txt')\n",
    "print(time.time() - mtime)"
   ]
  },
  {
   "cell_type": "code",
   "execution_count": 9,
   "metadata": {},
   "outputs": [
    {
     "name": "stdout",
     "output_type": "stream",
     "text": [
      "379.0683023929596\n"
     ]
    }
   ],
   "source": [
    "mtime = time.time()\n",
    "f = open('cs_2014.pickle', 'wb')\n",
    "pickle.dump(cs_2014, f)\n",
    "f.close()\n",
    "print(time.time() - mtime)"
   ]
  },
  {
   "cell_type": "code",
   "execution_count": 10,
   "metadata": {},
   "outputs": [],
   "source": [
    "del(cs_2014)"
   ]
  },
  {
   "cell_type": "code",
   "execution_count": 11,
   "metadata": {},
   "outputs": [
    {
     "name": "stdout",
     "output_type": "stream",
     "text": [
      "3878.562724351883\n"
     ]
    }
   ],
   "source": [
    "mtime = time.time()\n",
    "cs_2015 = pipeline_Clustering(2015, year_references_d[2015], 'PAPER2_nid1_nid2_YEAR_2004_2014.txt')\n",
    "print(time.time() - mtime)\n"
   ]
  },
  {
   "cell_type": "code",
   "execution_count": 12,
   "metadata": {},
   "outputs": [
    {
     "name": "stdout",
     "output_type": "stream",
     "text": [
      "353.41613149642944\n"
     ]
    }
   ],
   "source": [
    "mtime = time.time()\n",
    "f = open('cs_2015.pickle', 'wb')\n",
    "pickle.dump(cs_2015, f)\n",
    "f.close()\n",
    "print(time.time() - mtime)"
   ]
  },
  {
   "cell_type": "code",
   "execution_count": 13,
   "metadata": {},
   "outputs": [],
   "source": [
    "del(cs_2015)"
   ]
  },
  {
   "cell_type": "code",
   "execution_count": 14,
   "metadata": {},
   "outputs": [
    {
     "name": "stdout",
     "output_type": "stream",
     "text": [
      "3987.9391782283783\n"
     ]
    }
   ],
   "source": [
    "mtime = time.time()\n",
    "cs_2016 = pipeline_Clustering(2016, year_references_d[2016], 'PAPER2_nid1_nid2_YEAR_2005_2015.txt')\n",
    "print(time.time() - mtime)\n"
   ]
  },
  {
   "cell_type": "code",
   "execution_count": 15,
   "metadata": {},
   "outputs": [
    {
     "name": "stdout",
     "output_type": "stream",
     "text": [
      "356.18973112106323\n"
     ]
    }
   ],
   "source": [
    "mtime = time.time()\n",
    "f = open('cs_2016.pickle', 'wb')\n",
    "pickle.dump(cs_2016, f)\n",
    "f.close()\n",
    "print(time.time() - mtime)"
   ]
  },
  {
   "cell_type": "code",
   "execution_count": 16,
   "metadata": {},
   "outputs": [],
   "source": [
    "del(cs_2016)"
   ]
  },
  {
   "cell_type": "code",
   "execution_count": null,
   "metadata": {},
   "outputs": [],
   "source": []
  }
 ],
 "metadata": {
  "kernelspec": {
   "display_name": "Python 3 (ipykernel)",
   "language": "python",
   "name": "python3"
  },
  "language_info": {
   "codemirror_mode": {
    "name": "ipython",
    "version": 3
   },
   "file_extension": ".py",
   "mimetype": "text/x-python",
   "name": "python",
   "nbconvert_exporter": "python",
   "pygments_lexer": "ipython3",
   "version": "3.8.12"
  }
 },
 "nbformat": 4,
 "nbformat_minor": 4
}
