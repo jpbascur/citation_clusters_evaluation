{
 "cells": [
  {
   "cell_type": "code",
   "execution_count": 1,
   "id": "1152e779-8800-4701-a45b-280a0c0ed228",
   "metadata": {},
   "outputs": [],
   "source": [
    "import pickle\n",
    "import functions_reading as reading"
   ]
  },
  {
   "cell_type": "code",
   "execution_count": 22,
   "id": "9d1ab79b-bcf4-47c0-9fcd-cf5009a6fb7f",
   "metadata": {},
   "outputs": [],
   "source": [
    "def anotate_Cluster(clusters_d, data):\n",
    "    level = data['level']\n",
    "    clusters_members_d = data['merging_data']['jclu_d']\n",
    "    for cluster_id in clusters_members_d:\n",
    "        for netid in clusters_members_d[cluster_id]:\n",
    "             clusters_d[netid][level] = cluster_id\n",
    "    if level < 13:\n",
    "        positive_clusters_id = data['children_clusters']\n",
    "        for pclusterid in positive_clusters_id:\n",
    "            clusters_d = anotate_Cluster(clusters_d, data['children_clusters'][pclusterid])\n",
    "    return clusters_d\n",
    "\n",
    "def write_String_Clusters(clusters_d, netid_pmid_d):\n",
    "    \"\"\"Have to pass the netid instead of the pmid because there are duplicated pmid\"\"\"\n",
    "    out_file = ''\n",
    "    for netid in clusters_d:\n",
    "        n = clusters_d[netid]\n",
    "        out_file += (str(netid_pmid_d[netid]) + '\\t' + str(n[1]) + '\\t' + str(n[2]) + '\\t' + \n",
    "            str(n[3]) + '\\t' + str(n[4]) + '\\t' + str(n[5]) + '\\t' + str(n[6]) + '\\t' + str(n[7]) + '\\t' + str(n[8]) +\n",
    "            '\\t' + str(n[9]) + '\\t' + str(n[10]) + '\\t' + str(n[11]) + '\\t' + str(n[12]) + '\\t' + str(n[13]) + '\\n')\n",
    "    while out_file[-1] == '\\n':\n",
    "        out_file = out_file[:-1]\n",
    "    return out_file\n",
    "\n",
    "def write_String_SR(year_sr_d):\n",
    "    out_file = ''\n",
    "    for year in year_sr_d:\n",
    "        for sr in year_sr_d[year]:\n",
    "            for pmid in year_sr_d[year][sr]:\n",
    "                out_file +=  str(year) + '\\t' + str(sr)+ '\\t' + str(pmid) + '\\n'\n",
    "    while out_file[-1] == '\\n':\n",
    "        out_file = out_file[:-1]\n",
    "    return out_file\n",
    "\n",
    "def nedid_L(cs):\n",
    "    netid_set = set([netid for pair in cs['parsed_network'] for netid in pair])\n",
    "    netid_l = sorted(list(netid_set))\n",
    "    return netid_l"
   ]
  },
  {
   "cell_type": "code",
   "execution_count": 5,
   "id": "28a44c7f-40e1-46c6-b212-54f68931a8af",
   "metadata": {},
   "outputs": [],
   "source": [
    "f = open('cs_2014.pickle', 'rb')\n",
    "cs_2014 = pickle.load(f)\n",
    "f.close()\n",
    "f = open('cs_2015.pickle', 'rb')\n",
    "cs_2015 = pickle.load(f)\n",
    "f.close()\n",
    "f = open('cs_2016.pickle', 'rb')\n",
    "cs_2016 = pickle.load(f)\n",
    "f.close()\n",
    "netid_pmid = reading.p_Tab_Delimited('netid_pmid.txt')\n",
    "netid_pmid_d = {int(netid): int(pmid) for netid, pmid in netid_pmid}"
   ]
  },
  {
   "cell_type": "code",
   "execution_count": 6,
   "id": "a0d1cc26-9b72-40fd-9303-3ca646cb393a",
   "metadata": {},
   "outputs": [],
   "source": [
    "netid_l_2014 = nedid_L(cs_2014)\n",
    "netid_l_2015 = nedid_L(cs_2015)\n",
    "netid_l_2016 = nedid_L(cs_2016)"
   ]
  },
  {
   "cell_type": "code",
   "execution_count": 7,
   "id": "7b18a3a4-f506-49fe-b10b-bf665a989424",
   "metadata": {},
   "outputs": [],
   "source": [
    "clusters_d_2014 = {}\n",
    "for netid in netid_l_2014:\n",
    "    clusters_d_2014[netid] = {x:'-' for x in range(1,14)}\n",
    "    \n",
    "clusters_d_2015 = {}\n",
    "for netid in netid_l_2015:\n",
    "    clusters_d_2015[netid] = {x:'-' for x in range(1,14)}\n",
    "    \n",
    "clusters_d_2016 = {}\n",
    "for netid in netid_l_2016:\n",
    "    clusters_d_2016[netid] = {x:'-' for x in range(1,14)}"
   ]
  },
  {
   "cell_type": "code",
   "execution_count": 8,
   "id": "64feb63a-12aa-4e2a-8a2c-6d8fa17577bc",
   "metadata": {},
   "outputs": [],
   "source": [
    "clusters_d_2014 = anotate_Cluster(clusters_d_2014, cs_2014['level_data'])\n",
    "clusters_d_2015 = anotate_Cluster(clusters_d_2015, cs_2015['level_data'])\n",
    "clusters_d_2016 = anotate_Cluster(clusters_d_2016, cs_2016['level_data'])"
   ]
  },
  {
   "cell_type": "code",
   "execution_count": 9,
   "id": "2c6649aa-94eb-47f9-8f41-d80976f14099",
   "metadata": {},
   "outputs": [],
   "source": [
    "out_file_2014 = write_String_Clusters(clusters_d_2014, netid_pmid_d)\n",
    "out_file_2015 = write_String_Clusters(clusters_d_2015, netid_pmid_d)\n",
    "out_file_2016 = write_String_Clusters(clusters_d_2016, netid_pmid_d)"
   ]
  },
  {
   "cell_type": "code",
   "execution_count": 10,
   "id": "67a706c5-0ad0-4785-8ccb-ffd71178dcf8",
   "metadata": {},
   "outputs": [],
   "source": [
    "f = open('pmid_clusters_2014.txt', 'w')\n",
    "f.write(out_file_2014)\n",
    "f.close()\n",
    "\n",
    "f = open('pmid_clusters_2015.txt', 'w')\n",
    "f.write(out_file_2015)\n",
    "f.close()\n",
    "\n",
    "f = open('pmid_clusters_2016.txt', 'w')\n",
    "f.write(out_file_2016)\n",
    "f.close()"
   ]
  },
  {
   "cell_type": "code",
   "execution_count": 11,
   "id": "e7c03b3b-8292-494a-ad43-55deac5a19f5",
   "metadata": {},
   "outputs": [],
   "source": [
    "f = open('clean_ref.pickle', 'rb')\n",
    "clean_ref = pickle.load(f)\n",
    "f.close()"
   ]
  },
  {
   "cell_type": "code",
   "execution_count": 19,
   "id": "38d9eca2-5093-4ea4-894e-7c7b759bdbd2",
   "metadata": {},
   "outputs": [],
   "source": [
    "sr_positives = {}\n",
    "sr_retrieved = {}\n",
    "for year in clean_ref:\n",
    "    sr_positives[year] = {}\n",
    "    sr_retrieved[year] = {}\n",
    "    for sr in clean_ref[year]:\n",
    "        sr_positives[year][sr] = [netid_pmid_d[netid] for netid in clean_ref[year][sr]['positives_retrieved_in_net']]\n",
    "        sr_retrieved[year][sr] = [netid_pmid_d[netid] for netid in clean_ref[year][sr]['retrieved_in_net']]"
   ]
  },
  {
   "cell_type": "code",
   "execution_count": 25,
   "id": "26ad401e-e5df-404d-9dc0-9dae4dc70ffb",
   "metadata": {},
   "outputs": [],
   "source": [
    "string_sr_positives = write_String_SR(sr_positives)\n",
    "string_sr_retrieved = write_String_SR(sr_retrieved)"
   ]
  },
  {
   "cell_type": "code",
   "execution_count": 27,
   "id": "c1abb4f1-aa80-4e9b-be8b-c6076a6a2287",
   "metadata": {},
   "outputs": [],
   "source": [
    "f = open('sr_positives.txt', 'w')\n",
    "f.write(string_sr_positives)\n",
    "f.close()\n",
    "\n",
    "f = open('sr_retrieved.txt', 'w')\n",
    "f.write(string_sr_retrieved)\n",
    "f.close()"
   ]
  },
  {
   "cell_type": "code",
   "execution_count": null,
   "id": "53347431-0598-4568-8c57-91a3e1ec9e8d",
   "metadata": {},
   "outputs": [],
   "source": []
  }
 ],
 "metadata": {
  "kernelspec": {
   "display_name": "Python 3 (ipykernel)",
   "language": "python",
   "name": "python3"
  },
  "language_info": {
   "codemirror_mode": {
    "name": "ipython",
    "version": 3
   },
   "file_extension": ".py",
   "mimetype": "text/x-python",
   "name": "python",
   "nbconvert_exporter": "python",
   "pygments_lexer": "ipython3",
   "version": "3.8.12"
  }
 },
 "nbformat": 4,
 "nbformat_minor": 5
}
