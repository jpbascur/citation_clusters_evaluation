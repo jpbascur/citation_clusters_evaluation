{
 "cells": [
  {
   "cell_type": "code",
   "execution_count": 1,
   "metadata": {},
   "outputs": [],
   "source": [
    "import functions_reading as reading\n",
    "import functions_read_query as read_query\n",
    "import pickle\n",
    "import time\n",
    "\n",
    "# There was a problem with the network_ids. the clustering results seemed random. What happend was that the database pubmed_2020 was deleted,\n",
    "# and I had to move to pubmed_2021 in the script, but this changed the order of the rows, and therefore the network_ids. The solution was to\n",
    "# export the networks again."
   ]
  },
  {
   "cell_type": "code",
   "execution_count": 2,
   "metadata": {},
   "outputs": [],
   "source": [
    "#  This are all the topics that are ready to be parsed\n",
    "#  I wrote the boolean query of these topics in the boolean_queries directory\n",
    "done_topics = [\n",
    "1\n",
    ",3\n",
    ",4\n",
    ",6\n",
    ",11\n",
    ",12\n",
    ",13\n",
    ",18\n",
    ",19\n",
    ",28\n",
    ",43\n",
    ",46\n",
    ",47\n",
    ",51\n",
    ",53\n",
    ",54\n",
    ",55\n",
    ",59\n",
    ",62\n",
    ",69\n",
    ",78\n",
    ",79\n",
    ",80\n",
    ",89\n",
    ",93\n",
    ",95\n",
    ",105\n",
    ",116\n",
    ",119\n",
    ",124\n",
    ",130\n",
    ",136\n",
    ",137\n",
    ",151\n",
    ",155\n",
    ",160\n",
    ",169\n",
    ",173\n",
    "]\n",
    "connect_topics_d = read_query.topic_Api_D(done_topics, filename_part1='boolean_queries\\\\', filename_part3='_reviewed.txt')"
   ]
  },
  {
   "cell_type": "code",
   "execution_count": null,
   "metadata": {},
   "outputs": [],
   "source": [
    "        filename = filename_part1 + str(topic) + filename_part3\n",
    "        f = functions_reading.read_Any(filename, encoding='UTF-8')\n",
    "        query_remove_custom = remove_Custom(f, clean_number_rows=True)\n",
    "        query = format_Query(query_remove_custom)\n",
    "        topic_api_d[topic] = pumed_Api_Connect_D(query)"
   ]
  },
  {
   "cell_type": "code",
   "execution_count": null,
   "metadata": {},
   "outputs": [],
   "source": []
  },
  {
   "cell_type": "code",
   "execution_count": null,
   "metadata": {},
   "outputs": [],
   "source": []
  },
  {
   "cell_type": "code",
   "execution_count": null,
   "metadata": {},
   "outputs": [],
   "source": []
  },
  {
   "cell_type": "code",
   "execution_count": 3,
   "metadata": {},
   "outputs": [
    {
     "data": {
      "text/plain": [
       "['pub_id', 'pub_year', 'pmid', 'topic', 'topic_year', 'network_id']"
      ]
     },
     "execution_count": 3,
     "metadata": {},
     "output_type": "execute_result"
    }
   ],
   "source": [
    "# This is the references dict\n",
    "\n",
    "ref = reading.p_Tab_Delimited('PAPER2_topic_year_netid_CLEAN.txt')\n",
    "ref_head = ref[0]\n",
    "ref_row = ref[1:]\n",
    "ref_head"
   ]
  },
  {
   "cell_type": "code",
   "execution_count": 14,
   "metadata": {},
   "outputs": [],
   "source": [
    "filename = 'boolean_queries\\\\59_reviewed.txt'\n",
    "f = reading.read_Any(filename, encoding='UTF-8')\n",
    "query_remove_custom = read_query.remove_Custom(f, clean_number_rows=True)"
   ]
  },
  {
   "cell_type": "code",
   "execution_count": 16,
   "metadata": {},
   "outputs": [],
   "source": [
    "query = read_query.format_Query(query_remove_custom)\n",
    "api_output = read_query.pumed_Api_Connect_D(query)"
   ]
  },
  {
   "cell_type": "code",
   "execution_count": 18,
   "metadata": {},
   "outputs": [
    {
     "data": {
      "text/plain": [
       "dict_keys(['base', 'api_key', 'format_query', 'query_url', 'response', 'id_list'])"
      ]
     },
     "execution_count": 18,
     "metadata": {},
     "output_type": "execute_result"
    }
   ],
   "source": [
    "api_output.keys()"
   ]
  },
  {
   "cell_type": "code",
   "execution_count": 22,
   "metadata": {},
   "outputs": [
    {
     "data": {
      "text/plain": [
       "159"
      ]
     },
     "execution_count": 22,
     "metadata": {},
     "output_type": "execute_result"
    }
   ],
   "source": [
    "len(api_output['id_list'])"
   ]
  },
  {
   "cell_type": "code",
   "execution_count": 24,
   "metadata": {},
   "outputs": [
    {
     "data": {
      "text/plain": [
       "159"
      ]
     },
     "execution_count": 24,
     "metadata": {},
     "output_type": "execute_result"
    }
   ],
   "source": [
    "len(connect_topics_d[59]['id_list'])"
   ]
  },
  {
   "cell_type": "code",
   "execution_count": 13,
   "metadata": {},
   "outputs": [
    {
     "name": "stdout",
     "output_type": "stream",
     "text": [
      "(2004/01/01:2014/09/30[Date - Publication])\n",
      "AND\n",
      "(\n",
      "\t(\n",
      "\t\tneuroblastoma[Mesh Terms:noexp] \n",
      "\t\tOR neuroblastomas[Mesh Terms:noexp] \n",
      "\t\tOR neuroblast*[Mesh Terms:noexp] \n",
      "\t\tOR ganglioneuroblastoma[Mesh Terms:noexp] \n",
      "\t\tOR ganglioneuroblastomas[Mesh Terms:noexp] \n",
      "\t\tOR ganglioneuroblast*[Mesh Terms:noexp] \n",
      "\t\tOR neuroepithelioma[Mesh Terms:noexp] \n",
      "\t\tOR neuroepitheliomas[Mesh Terms:noexp] \n",
      "\t\tOR neuroepitheliom*[Mesh Terms:noexp] \n",
      "\t\tOR esthesioneuroblastoma[Mesh Terms:noexp] \n",
      "\t\tOR esthesioneuroblastomas[Mesh Terms:noexp] \n",
      "\t\tOR esthesioneuroblastom*[Mesh Terms:noexp] \n",
      "\t\tOR schwannian[Mesh Terms:noexp]\n",
      "\t)\n",
      "\tOR\n",
      "\t(\n",
      "\t\tneuroblastoma[Text Word] \n",
      "\t\tOR neuroblastomas[Text Word] \n",
      "\t\tOR neuroblast*[Text Word] \n",
      "\t\tOR ganglioneuroblastoma[Text Word] \n",
      "\t\tOR ganglioneuroblastomas[Text Word] \n",
      "\t\tOR ganglioneuroblast*[Text Word] \n",
      "\t\tOR neuroepithelioma[Text Word] \n",
      "\t\tOR neuroepitheliomas[Text Word] \n",
      "\t\tOR neuroepitheliom*[Text Word] \n",
      "\t\tOR esthesioneuroblastoma[Text Word] \n",
      "\t\tOR esthesioneuroblastomas[Text Word] \n",
      "\t\tOR esthesioneuroblastom*[Text Word] \n",
      "\t\tOR schwannian[Text Word]\n",
      "\t)\n",
      ") \n",
      "\n",
      "AND\n",
      "(\n",
      "\t(\n",
      "\t\tretinoic acid[Mesh Terms:noexp] \n",
      "\t\tOR retinoic acids[Mesh Terms:noexp] \n",
      "\t\tOR Retinoid*[Mesh Terms:noexp] \n",
      "\t\tOR Retinoid[Mesh Terms:noexp] \n",
      "\t\tOR Retinoids[Mesh Terms:noexp] \n",
      "\t\tOR tretinoin[Mesh Terms:noexp] \n",
      "\t\tOR Vitamin A Acid[Mesh Terms:noexp] \n",
      "\t\tOR Acid, Vitamin A[Mesh Terms:noexp] \n",
      "\t\tOR trans-Retinoic Acid[Mesh Terms:noexp] \n",
      "\t\tOR Acid, trans-Retinoic[Mesh Terms:noexp] \n",
      "\t\tOR trans Retinoic Acid[Mesh Terms:noexp] \n",
      "\t\tOR all-trans-Retinoic Acid[Mesh Terms:noexp] \n",
      "\t\tOR Acid, all-trans-Retinoic[Mesh Terms:noexp] \n",
      "\t\tOR all trans Retinoic Acid[Mesh Terms:noexp] \n",
      "\t\tOR beta-all-trans-Retinoic Acid[Mesh Terms:noexp] \n",
      "\t\tOR beta all trans Retinoic Acid[Mesh Terms:noexp] \n",
      "\t\tOR 3-cis-RA[Mesh Terms:noexp] \n",
      "\t\tOR 13-cis-retinoic acid[Mesh Terms:noexp] \n",
      "\t\tOR 4759-48-2[Mesh Terms:noexp] \n",
      "\t\tOR Retin-A[Mesh Terms:noexp] \n",
      "\t\tOR Retin A[Mesh Terms:noexp] \n",
      "\t\tOR Vesanoid[Mesh Terms:noexp] \n",
      "\t\tOR isotretinoin[Mesh Terms:noexp] \n",
      "\t\tOR ATRA[Mesh Terms:noexp] \n",
      "\t\tOR Accutane[Mesh Terms:noexp] \n",
      "\t\tOR Airol[Mesh Terms:noexp] \n",
      "\t\tOR Dermairol[Mesh Terms:noexp]\n",
      "\t)\n",
      "\tOR\n",
      "\t(\n",
      "\t\tretinoic acid[Text Word] \n",
      "\t\tOR retinoic acids[Text Word] \n",
      "\t\tOR Retinoid*[Text Word] \n",
      "\t\tOR Retinoid[Text Word] \n",
      "\t\tOR Retinoids[Text Word] \n",
      "\t\tOR tretinoin[Text Word] \n",
      "\t\tOR Vitamin A Acid[Text Word] \n",
      "\t\tOR Acid, Vitamin A[Text Word] \n",
      "\t\tOR trans-Retinoic Acid[Text Word] \n",
      "\t\tOR Acid, trans-Retinoic[Text Word] \n",
      "\t\tOR trans Retinoic Acid[Text Word] \n",
      "\t\tOR all-trans-Retinoic Acid[Text Word] \n",
      "\t\tOR Acid, all-trans-Retinoic[Text Word] \n",
      "\t\tOR all trans Retinoic Acid[Text Word] \n",
      "\t\tOR beta-all-trans-Retinoic Acid[Text Word] \n",
      "\t\tOR beta all trans Retinoic Acid[Text Word] \n",
      "\t\tOR 3-cis-RA[Text Word] \n",
      "\t\tOR 13-cis-retinoic acid[Text Word] \n",
      "\t\tOR 4759-48-2[Text Word] \n",
      "\t\tOR Retin-A[Text Word] \n",
      "\t\tOR Retin A[Text Word] \n",
      "\t\tOR Vesanoid[Text Word] \n",
      "\t\tOR isotretinoin[Text Word] \n",
      "\t\tOR ATRA[Text Word] \n",
      "\t\tOR Accutane[Text Word] \n",
      "\t\tOR Airol[Text Word] \n",
      "\t\tOR Dermairol[Text Word]\n",
      "\t)\n",
      ") \n",
      "\n",
      "AND\n",
      "(\n",
      "\t(\n",
      "\trandomized controlled trial[Publication Type]) \n",
      "\tOR (controlled clinical trial[Publication Type])\n",
      "\tOR (randomized[Title/Abstract]) \n",
      "\tOR (placebo[Title/Abstract]) \n",
      "\tOR (drug therapy[sh]) \n",
      "\tOR (randomly[Title/Abstract]) \n",
      "\tOR (trial[Title/Abstract]) \n",
      "\tOR (groups[Title/Abstract])) \n",
      "\tAND \n",
      "\t(\n",
      "\t\thumans[Mesh Terms:noexp]\n",
      "\t)\n",
      ")\n",
      "\n",
      "\n"
     ]
    }
   ],
   "source": [
    "print(query_remove_custom)"
   ]
  },
  {
   "cell_type": "code",
   "execution_count": 11,
   "metadata": {},
   "outputs": [
    {
     "name": "stdout",
     "output_type": "stream",
     "text": [
      "(2004/01/01:2014/09/30[Date - Publication])\n",
      "AND\n",
      "(\n",
      "\t(\n",
      "\t\tneuroblastoma[Mesh Terms:noexp] \n",
      "\t\tOR neuroblastomas[Mesh Terms:noexp] \n",
      "\t\tOR neuroblast*[Mesh Terms:noexp] \n",
      "\t\tOR ganglioneuroblastoma[Mesh Terms:noexp] \n",
      "\t\tOR ganglioneuroblastomas[Mesh Terms:noexp] \n",
      "\t\tOR ganglioneuroblast*[Mesh Terms:noexp] \n",
      "\t\tOR neuroepithelioma[Mesh Terms:noexp] \n",
      "\t\tOR neuroepitheliomas[Mesh Terms:noexp] \n",
      "\t\tOR neuroepitheliom*[Mesh Terms:noexp] \n",
      "\t\tOR esthesioneuroblastoma[Mesh Terms:noexp] \n",
      "\t\tOR esthesioneuroblastomas[Mesh Terms:noexp] \n",
      "\t\tOR esthesioneuroblastom*[Mesh Terms:noexp] \n",
      "\t\tOR schwannian[Mesh Terms:noexp]\n",
      "\t)\n",
      "\tOR\n",
      "\t(\n",
      "\t\tneuroblastoma[Text Word] \n",
      "\t\tOR neuroblastomas[Text Word] \n",
      "\t\tOR neuroblast*[Text Word] \n",
      "\t\tOR ganglioneuroblastoma[Text Word] \n",
      "\t\tOR ganglioneuroblastomas[Text Word] \n",
      "\t\tOR ganglioneuroblast*[Text Word] \n",
      "\t\tOR neuroepithelioma[Text Word] \n",
      "\t\tOR neuroepitheliomas[Text Word] \n",
      "\t\tOR neuroepitheliom*[Text Word] \n",
      "\t\tOR esthesioneuroblastoma[Text Word] \n",
      "\t\tOR esthesioneuroblastomas[Text Word] \n",
      "\t\tOR esthesioneuroblastom*[Text Word] \n",
      "\t\tOR schwannian[Text Word]\n",
      "\t)\n",
      ") \n",
      "\n",
      "AND\n",
      "(\n",
      "\t(\n",
      "\t\tretinoic acid[Mesh Terms:noexp] \n",
      "\t\tOR retinoic acids[Mesh Terms:noexp] \n",
      "\t\tOR Retinoid*[Mesh Terms:noexp] \n",
      "\t\tOR Retinoid[Mesh Terms:noexp] \n",
      "\t\tOR Retinoids[Mesh Terms:noexp] \n",
      "\t\tOR tretinoin[Mesh Terms:noexp] \n",
      "\t\tOR Vitamin A Acid[Mesh Terms:noexp] \n",
      "\t\tOR Acid, Vitamin A[Mesh Terms:noexp] \n",
      "\t\tOR trans-Retinoic Acid[Mesh Terms:noexp] \n",
      "\t\tOR Acid, trans-Retinoic[Mesh Terms:noexp] \n",
      "\t\tOR trans Retinoic Acid[Mesh Terms:noexp] \n",
      "\t\tOR all-trans-Retinoic Acid[Mesh Terms:noexp] \n",
      "\t\tOR Acid, all-trans-Retinoic[Mesh Terms:noexp] \n",
      "\t\tOR all trans Retinoic Acid[Mesh Terms:noexp] \n",
      "\t\tOR beta-all-trans-Retinoic Acid[Mesh Terms:noexp] \n",
      "\t\tOR beta all trans Retinoic Acid[Mesh Terms:noexp] \n",
      "\t\tOR 3-cis-RA[Mesh Terms:noexp] \n",
      "\t\tOR 13-cis-retinoic acid[Mesh Terms:noexp] \n",
      "\t\tOR 4759-48-2[Mesh Terms:noexp] \n",
      "\t\tOR Retin-A[Mesh Terms:noexp] \n",
      "\t\tOR Retin A[Mesh Terms:noexp] \n",
      "\t\tOR Vesanoid[Mesh Terms:noexp] \n",
      "\t\tOR isotretinoin[Mesh Terms:noexp] \n",
      "\t\tOR ATRA[Mesh Terms:noexp] \n",
      "\t\tOR Accutane[Mesh Terms:noexp] \n",
      "\t\tOR Airol[Mesh Terms:noexp] \n",
      "\t\tOR Dermairol[Mesh Terms:noexp]\n",
      "\t)\n",
      "\tOR\n",
      "\t(\n",
      "\t\tretinoic acid[Text Word] \n",
      "\t\tOR retinoic acids[Text Word] \n",
      "\t\tOR Retinoid*[Text Word] \n",
      "\t\tOR Retinoid[Text Word] \n",
      "\t\tOR Retinoids[Text Word] \n",
      "\t\tOR tretinoin[Text Word] \n",
      "\t\tOR Vitamin A Acid[Text Word] \n",
      "\t\tOR Acid, Vitamin A[Text Word] \n",
      "\t\tOR trans-Retinoic Acid[Text Word] \n",
      "\t\tOR Acid, trans-Retinoic[Text Word] \n",
      "\t\tOR trans Retinoic Acid[Text Word] \n",
      "\t\tOR all-trans-Retinoic Acid[Text Word] \n",
      "\t\tOR Acid, all-trans-Retinoic[Text Word] \n",
      "\t\tOR all trans Retinoic Acid[Text Word] \n",
      "\t\tOR beta-all-trans-Retinoic Acid[Text Word] \n",
      "\t\tOR beta all trans Retinoic Acid[Text Word] \n",
      "\t\tOR 3-cis-RA[Text Word] \n",
      "\t\tOR 13-cis-retinoic acid[Text Word] \n",
      "\t\tOR 4759-48-2[Text Word] \n",
      "\t\tOR Retin-A[Text Word] \n",
      "\t\tOR Retin A[Text Word] \n",
      "\t\tOR Vesanoid[Text Word] \n",
      "\t\tOR isotretinoin[Text Word] \n",
      "\t\tOR ATRA[Text Word] \n",
      "\t\tOR Accutane[Text Word] \n",
      "\t\tOR Airol[Text Word] \n",
      "\t\tOR Dermairol[Text Word]\n",
      "\t)\n",
      ") \n",
      "\n",
      "\n",
      "(\n",
      "\t(randomized controlled trial[Publication Type]) \n",
      "\tOR (controlled clinical trial[Publication Type])\n",
      "\t OR (randomized[Title/Abstract]) \n",
      "\t OR (placebo[Title/Abstract]) \n",
      "\t OR (drug therapy[sh]) \n",
      "\t OR (randomly[Title/Abstract]) \n",
      "\t OR (trial[Title/Abstract]) \n",
      "\t OR (groups[Title/Abstract])) \n",
      "AND (humans[Mesh Terms:noexp]\n",
      ")\n",
      "\n",
      "\n"
     ]
    }
   ],
   "source": [
    "print(query_remove_custom)"
   ]
  },
  {
   "cell_type": "code",
   "execution_count": 6,
   "metadata": {},
   "outputs": [],
   "source": [
    "title_list = []\n",
    "for pub_id in connect_topics_d[119]['id_list']:\n",
    "    title = read_query.retrieve_Pubmed_Title(pub_id)\n",
    "    title_list.append(title)"
   ]
  },
  {
   "cell_type": "code",
   "execution_count": 9,
   "metadata": {},
   "outputs": [
    {
     "data": {
      "text/plain": [
       "137"
      ]
     },
     "execution_count": 9,
     "metadata": {},
     "output_type": "execute_result"
    }
   ],
   "source": [
    "len(title_list)"
   ]
  },
  {
   "cell_type": "code",
   "execution_count": 7,
   "metadata": {},
   "outputs": [
    {
     "data": {
      "text/plain": [
       "[(26158191, None),\n",
       " (25473701, None),\n",
       " (24367555,\n",
       "  'Optimal triage test characteristics to improve the cost-effectiveness of the Xpert MTB/RIF assay for TB diagnosis: a decision analysis.'),\n",
       " (24349151,\n",
       "  'Tuberculous lymphadenitis in Northern Ethiopia: in a public health and microbiological perspectives.'),\n",
       " (24278155,\n",
       "  'Rapid molecular testing for TB to guide respiratory isolation in the U.S.: a cost-benefit analysis.'),\n",
       " (24223122,\n",
       "  'Rifampicin mono-resistance in Mycobacterium tuberculosis in KwaZulu-Natal, South Africa: a significant phenomenon in a high prevalence TB-HIV region.'),\n",
       " (24204834,\n",
       "  'Diagnostic accuracy and turnaround time of the Xpert MTB/RIF assay in routine clinical practice.'),\n",
       " (24147059,\n",
       "  'Tuberculosis in antiretroviral treatment programs in lower income countries: availability and use of diagnostics and screening.'),\n",
       " (24040038,\n",
       "  'The diagnostic performance of a single GeneXpert MTB/RIF assay in an intensified tuberculosis case finding survey among HIV-infected prisoners in Malaysia.'),\n",
       " (23950942,\n",
       "  'Population-level impact of same-day microscopy and Xpert MTB/RIF for tuberculosis diagnosis in Africa.'),\n",
       " (23874476,\n",
       "  'Blood neutrophil counts in HIV-infected patients with pulmonary tuberculosis: association with sputum mycobacterial load.'),\n",
       " (23762367,\n",
       "  'Time to treatment and patient outcomes among TB suspects screened by a single point-of-care xpert MTB/RIF at a primary care clinic in Johannesburg, South Africa.'),\n",
       " (23460004, 'Tuberculosis and HIV coinfection.'),\n",
       " (23440842,\n",
       "  'Xpert® MTB/RIF assay for pulmonary tuberculosis and rifampicin resistance in adults.'),\n",
       " (23394756,\n",
       "  'Tuberculosis diagnostics for children in high-burden countries: what is available and what is needed.'),\n",
       " (23374320,\n",
       "  'Diagnosing Xpert MTB/RIF negative TB: impact and cost of alternative algorithms for South Africa.'),\n",
       " (23343418,\n",
       "  'Evaluation of Xpert MTB/RIF and MODS assay for the diagnosis of pediatric tuberculosis.'),\n",
       " (23276773,\n",
       "  'GeneXpert® for smear-negative pulmonary tuberculosis: does it play a role in low-burden countries?'),\n",
       " (23263819,\n",
       "  'Performance of Cepheid ® Xpert MTB/RIF ® and TB-Biochip ® MDR in two regions of Russia with a high prevalence of drug-resistant tuberculosis.'),\n",
       " (23258774,\n",
       "  'Xpert MTB/RIF for diagnosis of tuberculosis and drug-resistant tuberculosis: a cost and affordability analysis.'),\n",
       " (23226311,\n",
       "  'High isoniazid resistance rates in rifampicin susceptible Mycobacterium tuberculosis pulmonary isolates from Pakistan.'),\n",
       " (23209384,\n",
       "  'Screening and rapid molecular diagnosis of tuberculosis in prisons in Russia and Eastern Europe: a cost-effectiveness analysis.'),\n",
       " (23190246,\n",
       "  'Point-of-care diagnosis of tuberculosis: past, present and future.'),\n",
       " (23188101,\n",
       "  'Rapid diagnosis of pediatric intrathoracic tuberculosis from stool samples using the Xpert MTB/RIF Assay: a pilot study.'),\n",
       " (23185139,\n",
       "  'Population health impact and cost-effectiveness of tuberculosis diagnosis with Xpert MTB/RIF: a dynamic simulation and economic evaluation.'),\n",
       " (23180585,\n",
       "  'Rapid molecular TB diagnosis: evidence, policy making and global implementation of Xpert MTB/RIF.'),\n",
       " (23153237,\n",
       "  'Nucleic acid testing for tuberculosis at the point-of-care in high-burden countries.'),\n",
       " (23139799,\n",
       "  'Impact of Xpert MTB/RIF testing on tuberculosis management and outcomes in hospitalized patients in Uganda.'),\n",
       " (23134697,\n",
       "  'Assessment of the Xpert MTB/RIF assay for diagnosis of tuberculosis with gastric lavage aspirates in children in sub-Saharan Africa: a prospective descriptive study.'),\n",
       " (23113553,\n",
       "  'Comparison of smear microscopy, culture, and real-time PCR for quantitative detection of Mycobacterium tuberculosis in clinical respiratory specimens.'),\n",
       " (23047207,\n",
       "  'Evaluation of direct detection of Mycobacterium tuberculosis complex in respiratory and non-respiratory clinical specimens using the Cepheid Gene Xpert® system.'),\n",
       " (23044453,\n",
       "  'Xpert® MTB/RIF diagnosed disseminated smear-negative MDR-TB in a sub-district hospital in India.'),\n",
       " (23034211,\n",
       "  'Implementation of Xpert MTB/RIF for routine point-of-care diagnosis of tuberculosis at the primary care level.'),\n",
       " (22981162,\n",
       "  'The Xpert® MTB/RIF assay evaluation in South Korea, a country with an intermediate tuberculosis burden.'),\n",
       " (22972826,\n",
       "  'The diagnostic performance of the GenoType MTBDRplus version 2 line probe assay is equivalent to that of the Xpert MTB/RIF assay.'),\n",
       " (22971064,\n",
       "  'Promising directions in the diagnosis of childhood tuberculosis.'),\n",
       " (22970271,\n",
       "  'A diagnostic accuracy study of Xpert®MTB/RIF in HIV-positive patients with high clinical suspicion of pulmonary tuberculosis in Lima, Peru.'),\n",
       " (22966426,\n",
       "  'Rapid Diagnosis of Pulmonary and Extrapulmonary Tuberculosis in HIV-Infected Patients. Comparison of LED Fluorescent Microscopy and the GeneXpert MTB/RIF Assay in a District Hospital in India.'),\n",
       " (22964006,\n",
       "  'Performance of the Xpert® MTB/RIF assay in an active case-finding strategy: a pilot study from Tanzania.'),\n",
       " (22905254,\n",
       "  'Performance characteristics of the Cepheid Xpert MTB/RIF test in a tuberculosis prevalence survey.'),\n",
       " (22883998, '[Diagnostic value of Xpert MTB/RIF assay for tuberculosis].'),\n",
       " (22863872,\n",
       "  'Rapid molecular detection of pulmonary tuberculosis in HIV-infected patients in Santiago, Chile.'),\n",
       " (22855746,\n",
       "  'Rapid implementation of new TB diagnostic tests: is it too soon for a global roll-out of Xpert MTB/RIF?'),\n",
       " (22819240,\n",
       "  'An evaluation of the Xpert MTB/RIF assay and detection of false-positive rifampicin resistance in Mycobacterium tuberculosis.'),\n",
       " (22815718,\n",
       "  'The diagnostic accuracy of urine-based Xpert MTB/RIF in HIV-infected hospitalized patients who are smear-negative or sputum scarce.'),\n",
       " (22806590,\n",
       "  'Evaluation of the Xpert MTB/RIF assay at a tertiary care referral hospital in a setting where tuberculosis and HIV infection are highly endemic.'),\n",
       " (22752518,\n",
       "  'Rapid molecular diagnosis of pulmonary tuberculosis in children using nasopharyngeal specimens.'),\n",
       " (22734954,\n",
       "  'Diagnosis of extrapulmonary tuberculosis using the Xpert(®) MTB/RIF assay.'),\n",
       " (22695302,\n",
       "  'Reducing deaths from tuberculosis in antiretroviral treatment programmes in sub-Saharan Africa.'),\n",
       " (22693561,\n",
       "  'The impact and cost of scaling up GeneXpert MTB/RIF in South Africa.'),\n",
       " (22686606,\n",
       "  'Scaling up Xpert MTB/RIF technology: the costs of laboratory- vs. clinic-based roll-out in South Africa.'),\n",
       " (22668953,\n",
       "  'Advances in childhood tuberculosis - contributions from the University of Cape Town.'),\n",
       " (22668906,\n",
       "  'Delay in commencing treatment for MDR TB at a specialised TB treatment centre in KwaZulu-Natal.'),\n",
       " (22664508,\n",
       "  'Need to confirm isoniazid susceptibility in Xpert MTB/RIF rifampin susceptible cases.'),\n",
       " (22629395,\n",
       "  'Correlation of mycobacterium tuberculosis specific and non-specific quantitative Th1 T-cell responses with bacillary load in a high burden setting.'),\n",
       " (22605838,\n",
       "  'Mycobacterium intracellulare infection in non-HIV infected patient in a region with a high burden of tuberculosis.'),\n",
       " (22573846,\n",
       "  'Characteristics of Xpert MTB/RIF-negative patients with pulmonary tuberculosis.'),\n",
       " (22568711,\n",
       "  'Antigen detection as a point-of-care test for TB: the case of lipoarabinomannan.'),\n",
       " (22555166,\n",
       "  'Clinical significance of lipoarabinomannan detection in urine using a low-cost point-of-care diagnostic assay for HIV-associated tuberculosis.'),\n",
       " (22553234,\n",
       "  'Can a simple flotation method lower the limit of detection of Mycobacterium tuberculosis in extrapulmonary samples analyzed by the GeneXpert MTB/RIF assay?'),\n",
       " (22547737, 'Early tuberculosis treatment monitoring by Xpert(R) MTB/RIF.'),\n",
       " (22531759,\n",
       "  'High diagnostic yield of tuberculosis from screening urine samples from HIV-infected patients with advanced immunodeficiency using the Xpert MTB/RIF assay.'),\n",
       " (22529869,\n",
       "  'Classic and new diagnostic approaches to childhood tuberculosis.'),\n",
       " (22508485, 'Diagnosing pulmonary tuberculosis with the Xpert MTB/RIF test.'),\n",
       " (22507936, 'Should Xpert® MTB/RIF be rolled out in low-income countries?'),\n",
       " (22507934,\n",
       "  'Location of Xpert® MTB/RIF in centralised laboratories in South Africa undermines potential impact.'),\n",
       " (22474483,\n",
       "  'A systematic review of the epidemiology, immunopathogenesis, diagnosis, and treatment of pleural TB in HIV-infected patients.'),\n",
       " (22474220,\n",
       "  'Increased and expedited case detection by Xpert MTB/RIF assay in childhood tuberculosis: a prospective cohort study.'),\n",
       " (22410498,\n",
       "  'Microscopy compared to culture for the diagnosis of tuberculosis in induced sputum samples: a systematic review.'),\n",
       " (22381459,\n",
       "  'Rapid and effective diagnosis of tuberculosis and rifampicin resistance with Xpert MTB/RIF assay: a meta-analysis.'),\n",
       " (22369353,\n",
       "  'Lipoarabinomannan in urine during tuberculosis treatment: association with host and pathogen factors and mycobacteriuria.'),\n",
       " (22333751,\n",
       "  'The cost-effectiveness of routine tuberculosis screening with Xpert MTB/RIF prior to initiation of antiretroviral therapy: a model-based analysis.'),\n",
       " (22318975,\n",
       "  'Characteristics and early outcomes of patients with Xpert MTB/RIF-negative pulmonary tuberculosis diagnosed during screening before antiretroviral therapy.'),\n",
       " (22241741,\n",
       "  'Clinical validation of Xpert MTB/RIF for the diagnosis of extrapulmonary tuberculosis.'),\n",
       " (22240465,\n",
       "  'Cost-effectiveness of tuberculosis diagnostic strategies to reduce early mortality among persons with advanced HIV infection initiating antiretroviral therapy.'),\n",
       " (22236921,\n",
       "  'False-positive rifampicin resistance on Xpert® MTB/RIF: case report and clinical implications.'),\n",
       " (22216117,\n",
       "  'Comparison of quantitative techniques including Xpert MTB/RIF to evaluate mycobacterial burden.'),\n",
       " (22187175,\n",
       "  '[Two selected commercially based nucleic acid amplification tests for the diagnosis of tuberculosis].'),\n",
       " (22174115,\n",
       "  'Xpert MTB/RIF versus sputum smear microscopy: microscopy needs a level playing field.'),\n",
       " (22162564,\n",
       "  'Effectiveness of an integrated real-time PCR method for detection of the Mycobacterium tuberculosis complex in smear-negative extrapulmonary samples in an area of low tuberculosis prevalence.'),\n",
       " (22139854,\n",
       "  'The use of an automated quantitative polymerase chain reaction (Xpert MTB/RIF) to predict the sputum smear status of tuberculosis patients.'),\n",
       " (22137551,\n",
       "  'Clinical failures associated with rpoB mutations in phenotypically occult multidrug-resistant Mycobacterium tuberculosis.'),\n",
       " (22136739,\n",
       "  'Global isoniazid resistance patterns in rifampin-resistant and rifampin-susceptible tuberculosis.'),\n",
       " (22118160,\n",
       "  'The ethics of national tuberculosis programmes in low-income countries not rolling out Xpert ® MTB/RIF.'),\n",
       " (22087078,\n",
       "  'Rapid diagnosis of tuberculosis with the Xpert MTB/RIF assay in high burden countries: a cost-effectiveness analysis.'),\n",
       " (22075479,\n",
       "  'Do adjunct tuberculosis tests, when combined with Xpert MTB/RIF, improve accuracy and the cost of diagnosis in a resource-poor setting?'),\n",
       " (22072958,\n",
       "  'Simple rapid near-patient diagnostics for tuberculosis remain elusive--is a \"treat-to-test\" strategy more realistic?'),\n",
       " (21996698,\n",
       "  'Tuberculosis in antiretroviral treatment services in resource-limited settings: addressing the challenges of screening and diagnosis.'),\n",
       " (22015305,\n",
       "  'Diagnostic accuracy of a low-cost, urine antigen, point-of-care screening assay for HIV-associated pulmonary tuberculosis before antiretroviral therapy: a descriptive study.'),\n",
       " (22007302,\n",
       "  'A model of tuberculosis screening for pregnant women in resource-limited settings using Xpert MTB/RIF.'),\n",
       " (22005110,\n",
       "  'Xpert® MTB/RIF for national tuberculosis programmes in low-income countries: when, where and how?'),\n",
       " (21998430, 'Xpert MTB/RIF assay for diagnosis of pleural tuberculosis.'),\n",
       " (21990187,\n",
       "  'A single Xpert MTB/RIF test of sputum for diagnosis of tuberculosis and multidrug resistance shows high sensitivity and specificity and reduces diagnosis and treatment delays.'),\n",
       " (21976767,\n",
       "  'Dried culture spots for Xpert MTB/RIF external quality assessment: results of a phase 1 pilot study in South Africa.'),\n",
       " (21958145,\n",
       "  'Xpert® MTB/RIF assay: development, evaluation and implementation of a new rapid molecular diagnostic for tuberculosis and rifampicin resistance.'),\n",
       " (21956978,\n",
       "  'Evaluation of the GeneXpert MTB/RIF assay for rapid diagnosis of tuberculosis and detection of rifampin resistance in pulmonary and extrapulmonary specimens.'),\n",
       " (21943862,\n",
       "  'GeneXpert® MTB/RIF for rapid detection of Mycobacterium tuberculosis in pulmonary and extra-pulmonary samples.'),\n",
       " (21943860,\n",
       "  'Pre-screening with GeneXpert® MTB/RIF may increase use of isoniazid preventive therapy in antiretroviral programmes.'),\n",
       " (21913741,\n",
       "  'Detecting drug-resistant tuberculosis: the importance of rapid testing.'),\n",
       " (21880965,\n",
       "  'Xpert MTB/RIF for rapid diagnosis of tuberculous lymphadenitis from fine-needle-aspiration biopsy specimens.'),\n",
       " (21865419,\n",
       "  'Comparison of two nucleic acid amplification assays, the Xpert MTB/RIF assay and the amplified Mycobacterium Tuberculosis Direct assay, for detection of Mycobacterium tuberculosis in respiratory and nonrespiratory specimens.'),\n",
       " (21849695,\n",
       "  'Performance of Xpert MTB/RIF RUO assay and IS6110 real-time PCR for Mycobacterium tuberculosis detection in clinical samples.'),\n",
       " (21836139,\n",
       "  'A multisite assessment of the quantitative capabilities of the Xpert MTB/RIF assay.'),\n",
       " (21821179, 'Xpert MTB/RIF test for tuberculosis.'),\n",
       " (21821177, 'Xpert MTB/RIF test for tuberculosis.'),\n",
       " (21821176, 'Xpert MTB/RIF test for tuberculosis.'),\n",
       " (21818180,\n",
       "  'Screening for HIV-associated tuberculosis and rifampicin resistance before antiretroviral therapy using the Xpert MTB/RIF assay: a prospective study.'),\n",
       " (21814497, 'GeneXpert--a game-changer for tuberculosis control?'),\n",
       " (21814496,\n",
       "  'Is scale-up worth it? Challenges in economic analysis of diagnostic tests for tuberculosis.'),\n",
       " (21814495,\n",
       "  'Comparison of Xpert MTB/RIF with other nucleic acid technologies for diagnosing pulmonary tuberculosis in a high HIV prevalence setting: a prospective study.'),\n",
       " (21764385, 'Xpert MTB/RIF for diagnosis of pulmonary tuberculosis.'),\n",
       " (21764384,\n",
       "  'Accuracy of the Xpert MTB/RIF test for the diagnosis of pulmonary tuberculosis in children admitted to hospital in Cape Town, South Africa: a descriptive study.'),\n",
       " (21738575,\n",
       "  'Rapid and accurate detection of Mycobacterium tuberculosis in sputum samples by Cepheid Xpert MTB/RIF assay--a clinical validation study.'),\n",
       " (21682978,\n",
       "  'Xpert MTB/RIF®, a novel automated polymerase chain reaction-based tool for the diagnosis of tuberculosis.'),\n",
       " (21677069,\n",
       "  'Cepheid GeneXpert MTB/RIF assay for Mycobacterium tuberculosis detection and rifampin resistance identification in patients with substantial clinical indications of tuberculosis and smear-negative microscopy results.'),\n",
       " (21653775,\n",
       "  'Comparison of two molecular methods for rapid diagnosis of extrapulmonary tuberculosis.'),\n",
       " (21653771,\n",
       "  'Suitability of Xpert MTB/RIF and genotype MTBDRplus for patient selection for a tuberculosis clinical trial.'),\n",
       " (21593262,\n",
       "  'Xpert MTB/RIF: a new pillar in diagnosis of extrapulmonary tuberculosis?'),\n",
       " (21507477,\n",
       "  'Feasibility, diagnostic accuracy, and effectiveness of decentralised use of the Xpert MTB/RIF test for diagnosis of tuberculosis and multidrug resistance: a multicentre implementation study.'),\n",
       " (21504402, 'Tuberculosis assays: past, present and future.'),\n",
       " (21493734,\n",
       "  'Evaluation of the Xpert MTB/RIF assay for the diagnosis of pulmonary tuberculosis in a high HIV prevalence setting.'),\n",
       " (21419061,\n",
       "  '[Treatment and diagnostics of tuberculosis: moving slowly forward].'),\n",
       " (21411592,\n",
       "  'Comparison of the Xpert MTB/RIF test with an IS6110-TaqMan real-time PCR assay for direct detection of Mycobacterium tuberculosis in respiratory and nonrespiratory specimens.'),\n",
       " (21341158,\n",
       "  '[Evaluation of Xpert MTB/RIF results for the detection of Mycobacterium tuberculosis in clinical samples].'),\n",
       " (21289151,\n",
       "  'Evaluation of the Cepheid Xpert MTB/RIF assay for direct detection of Mycobacterium tuberculosis complex in respiratory specimens.'),\n",
       " (21270230,\n",
       "  'Rapid molecular detection of extrapulmonary tuberculosis by the automated GeneXpert MTB/RIF system.'),\n",
       " (21191053,\n",
       "  'Rapid detection of Mycobacterium tuberculosis complex and rifampin resistance in smear-negative clinical samples by use of an integrated real-time PCR method.'),\n",
       " (21188551,\n",
       "  'The urgent need for new diagnostics for symptomatic tuberculosis in children.'),\n",
       " (21169626,\n",
       "  'An automated molecular test for Mycobacterium tuberculosis and resistance to rifampin (Xpert MTB/RIF) is sensitive and can be carried out in less than 2 h.'),\n",
       " (21053414, 'Xpert TB diagnostic highlights gap in point-of-care pipeline.'),\n",
       " (20964612,\n",
       "  'Xpert(®) MTB/RIF for point-of-care diagnosis of TB in high-HIV burden, resource-limited countries: hype or hope?'),\n",
       " (20825313,\n",
       "  'Rapid molecular detection of tuberculosis and rifampin resistance.'),\n",
       " (20720033,\n",
       "  'Containment of bioaerosol infection risk by the Xpert MTB/RIF assay and its applicability to point-of-care settings.'),\n",
       " (20504986,\n",
       "  'Evaluation of the analytical performance of the Xpert MTB/RIF assay.'),\n",
       " (19864480,\n",
       "  'Rapid detection of Mycobacterium tuberculosis and rifampin resistance by use of on-demand, near-patient technology.'),\n",
       " (19642237, 'Cepheid unveils fast TB test to aid developing countries.'),\n",
       " (18818267,\n",
       "  'The gross appearances of fine needle aspiration cytology samples.')]"
      ]
     },
     "execution_count": 7,
     "metadata": {},
     "output_type": "execute_result"
    }
   ],
   "source": [
    "title_list"
   ]
  },
  {
   "cell_type": "code",
   "execution_count": 8,
   "metadata": {},
   "outputs": [],
   "source": [
    "original_relevant_119 = []\n",
    "for row in ref_row:\n",
    "    if row[3] == '119':\n",
    "        original_relevant_119.append(int(row[2]))"
   ]
  },
  {
   "cell_type": "code",
   "execution_count": 6,
   "metadata": {},
   "outputs": [],
   "source": [
    "old_199_query = '''\n",
    "(2007/01/01:2013/02/07[Date - Publication])\n",
    "AND\n",
    "(\n",
    "\t(\n",
    "\t\t(\n",
    "\t\t\ttuberculosis[Text Word]\n",
    "\t\t\tOR TB[Text Word]\n",
    "\t\t) #1\n",
    "\t\tOR Mycobacterium tuberculosis[Mesh Terms:noexp] #2\n",
    "\t\tOR\n",
    "\t\t(\n",
    "\t\t\tTuberculosis, Multidrug-Resistant[Mesh Terms:noexp] \n",
    "\t\t\tOR Tuberculosis[Mesh Terms:noexp]\n",
    "\t\t\tOR Tuberculosis, Pulmonary[Mesh Terms:noexp]\n",
    "\t\t) #3\n",
    "\t) #4\n",
    "\tAND\n",
    "\t(\n",
    "\t\tXpert[Text Word]\n",
    "\t\tOR GeneXpert[Text Word]\n",
    "\t\tOR cepheid[Text Word]\n",
    "\t\tOR \n",
    "\t\t(\n",
    "\t\t\tnear*[Text Word]\n",
    "\t\t\tAND patient[Text Word]\n",
    "\t\t)\n",
    "\t) #5\n",
    ")\n",
    "'''\n",
    "\n",
    "new_v1_199_query = '''\n",
    "(2007/01/01:2013/02/07[Date - Publication])\n",
    "AND\n",
    "(\n",
    "\t(\n",
    "\t\t(\n",
    "\t\t\ttuberculosis[Text Word]\n",
    "\t\t\tOR TB[Text Word]\n",
    "\t\t) #1\n",
    "\t\tOR Mycobacterium tuberculosis[Mesh Terms:noexp] #2\n",
    "\t\tOR\n",
    "\t\t(\n",
    "\t\t\tTuberculosis, Multidrug-Resistant[Mesh Terms:noexp] \n",
    "\t\t\tOR Tuberculosis[Mesh Terms:noexp]\n",
    "\t\t\tOR Tuberculosis, Pulmonary[Mesh Terms:noexp]\n",
    "\t\t) #3\n",
    "\t) #4\n",
    "\tAND\n",
    "\t(\n",
    "\t\tXpert[Text Word]\n",
    "\t\tOR GeneXpert[Text Word]\n",
    "\t\tOR cepheid[Text Word]\n",
    "\t\tOR near patient[Text Word]\n",
    "\t) #5\n",
    ")\n",
    "'''\n",
    "\n",
    "new_v2_199_query = '''\n",
    "(2007/01/01:2013/02/07[Date - Publication])\n",
    "AND\n",
    "(\n",
    "\t(\n",
    "\t\t(\n",
    "\t\t\ttuberculosis[Text Word]\n",
    "\t\t\tOR TB[Text Word]\n",
    "\t\t) #1\n",
    "\t\tOR Mycobacterium tuberculosis[Mesh Terms:noexp] #2\n",
    "\t\tOR\n",
    "\t\t(\n",
    "\t\t\tTuberculosis, Multidrug-Resistant[Mesh Terms:noexp] \n",
    "\t\t\tOR Tuberculosis[Mesh Terms:noexp]\n",
    "\t\t\tOR Tuberculosis, Pulmonary[Mesh Terms:noexp]\n",
    "\t\t) #3\n",
    "\t) #4\n",
    "\tAND\n",
    "\t(\n",
    "\t\tXpert[Text Word]\n",
    "\t\tOR GeneXpert[Text Word]\n",
    "\t\tOR cepheid[Text Word]\n",
    "\t\tOR near-patient[Text Word]\n",
    "\t) #5\n",
    ")\n",
    "'''\n",
    "\n",
    "no_nearpatient_query = '''\n",
    "(2007/01/01:2013/02/07[Date - Publication])\n",
    "AND\n",
    "(\n",
    "\t(\n",
    "\t\t(\n",
    "\t\t\ttuberculosis[Text Word]\n",
    "\t\t\tOR TB[Text Word]\n",
    "\t\t) #1\n",
    "\t\tOR Mycobacterium tuberculosis[Mesh Terms:noexp] #2\n",
    "\t\tOR\n",
    "\t\t(\n",
    "\t\t\tTuberculosis, Multidrug-Resistant[Mesh Terms:noexp] \n",
    "\t\t\tOR Tuberculosis[Mesh Terms:noexp]\n",
    "\t\t\tOR Tuberculosis, Pulmonary[Mesh Terms:noexp]\n",
    "\t\t) #3\n",
    "\t) #4\n",
    "\tAND\n",
    "\t(\n",
    "\t\tXpert[Text Word]\n",
    "\t\tOR GeneXpert[Text Word]\n",
    "\t\tOR cepheid[Text Word]\n",
    "\t) #5\n",
    ")\n",
    "'''\n",
    "\n",
    "\n",
    "\n",
    "\n",
    "\n",
    "def test_Query(query):\n",
    "    '''Get the retrieved papers of a single query'''\n",
    "    query_remove_custom = read_query.remove_Custom(query, clean_number_rows=True)\n",
    "    query_formated = read_query.format_Query(query_remove_custom)\n",
    "    pubmed_ids_l = read_query.pumed_Api_Connect_D(query_formated)\n",
    "    return pubmed_ids_l\n",
    "\n"
   ]
  },
  {
   "cell_type": "code",
   "execution_count": 7,
   "metadata": {},
   "outputs": [
    {
     "name": "stdout",
     "output_type": "stream",
     "text": [
      "0.5932450294494629\n",
      "134\n"
     ]
    }
   ],
   "source": [
    "t = time.time()\n",
    "no_nearpatient_pubids = test_Query(no_nearpatient_query)\n",
    "print(time.time()-t)\n",
    "print(len(no_nearpatient_pubids['id_list']))\n",
    "# The near-patient does a huge difference!"
   ]
  },
  {
   "cell_type": "code",
   "execution_count": null,
   "metadata": {},
   "outputs": [],
   "source": []
  },
  {
   "cell_type": "code",
   "execution_count": null,
   "metadata": {},
   "outputs": [],
   "source": []
  },
  {
   "cell_type": "code",
   "execution_count": null,
   "metadata": {},
   "outputs": [],
   "source": []
  },
  {
   "cell_type": "code",
   "execution_count": 12,
   "metadata": {},
   "outputs": [
    {
     "name": "stdout",
     "output_type": "stream",
     "text": [
      "0.7680504322052002\n",
      "182\n"
     ]
    }
   ],
   "source": [
    "t = time.time()\n",
    "old_199_pubids = test_Query(old_199_query)\n",
    "print(time.time()-t)\n",
    "print(len(old_199_pubids['id_list']))"
   ]
  },
  {
   "cell_type": "code",
   "execution_count": 13,
   "metadata": {},
   "outputs": [
    {
     "name": "stdout",
     "output_type": "stream",
     "text": [
      "0.5975151062011719\n",
      "137\n"
     ]
    }
   ],
   "source": [
    "t = time.time()\n",
    "new_v1_199_pubids = test_Query(new_v1_199_query)\n",
    "print(time.time()-t)\n",
    "print(len(new_v1_199_pubids['id_list']))"
   ]
  },
  {
   "cell_type": "code",
   "execution_count": 14,
   "metadata": {},
   "outputs": [
    {
     "name": "stdout",
     "output_type": "stream",
     "text": [
      "0.6005322933197021\n",
      "137\n"
     ]
    }
   ],
   "source": [
    "t = time.time()\n",
    "new_v2_199_pubids = test_Query(new_v2_199_query)\n",
    "print(time.time()-t)\n",
    "print(len(new_v2_199_pubids['id_list']))"
   ]
  },
  {
   "cell_type": "code",
   "execution_count": 15,
   "metadata": {},
   "outputs": [],
   "source": [
    "# new_v1_199_pubids and new_v2_199_pubids are of the same lenght, this means that the API can use both near-patient[Text Word] and near patient[Text Word],\n",
    "# therefore there is no need to use \t\t(\t\t\tnear*[Text Word]\t\t\tAND patient[Text Word]\t\t)"
   ]
  },
  {
   "cell_type": "code",
   "execution_count": 16,
   "metadata": {},
   "outputs": [
    {
     "ename": "NameError",
     "evalue": "name 'year_pmid_netid_d' is not defined",
     "output_type": "error",
     "traceback": [
      "\u001b[1;31m---------------------------------------------------------------------------\u001b[0m",
      "\u001b[1;31mNameError\u001b[0m                                 Traceback (most recent call last)",
      "\u001b[1;32m<ipython-input-16-bfd5a2f4d605>\u001b[0m in \u001b[0;36m<module>\u001b[1;34m\u001b[0m\n\u001b[0;32m      2\u001b[0m \u001b[0mnew_v1_199_pubids_innet\u001b[0m \u001b[1;33m=\u001b[0m \u001b[1;33m[\u001b[0m\u001b[1;33m]\u001b[0m\u001b[1;33m\u001b[0m\u001b[1;33m\u001b[0m\u001b[0m\n\u001b[0;32m      3\u001b[0m \u001b[1;32mfor\u001b[0m \u001b[0mpub_id\u001b[0m \u001b[1;32min\u001b[0m \u001b[0mnew_v1_199_pubids\u001b[0m\u001b[1;33m[\u001b[0m\u001b[1;34m'id_list'\u001b[0m\u001b[1;33m]\u001b[0m\u001b[1;33m:\u001b[0m\u001b[1;33m\u001b[0m\u001b[1;33m\u001b[0m\u001b[0m\n\u001b[1;32m----> 4\u001b[1;33m     \u001b[1;32mif\u001b[0m \u001b[0mpub_id\u001b[0m \u001b[1;32min\u001b[0m \u001b[0myear_pmid_netid_d\u001b[0m\u001b[1;33m[\u001b[0m\u001b[1;36m2014\u001b[0m\u001b[1;33m]\u001b[0m\u001b[1;33m:\u001b[0m\u001b[1;33m\u001b[0m\u001b[1;33m\u001b[0m\u001b[0m\n\u001b[0m\u001b[0;32m      5\u001b[0m         \u001b[0mnew_v1_199_pubids_innet\u001b[0m\u001b[1;33m.\u001b[0m\u001b[0mappend\u001b[0m\u001b[1;33m(\u001b[0m\u001b[0mpub_id\u001b[0m\u001b[1;33m)\u001b[0m\u001b[1;33m\u001b[0m\u001b[1;33m\u001b[0m\u001b[0m\n\u001b[0;32m      6\u001b[0m         \u001b[0mnet_id\u001b[0m \u001b[1;33m=\u001b[0m \u001b[0myear_pmid_netid_d\u001b[0m\u001b[1;33m[\u001b[0m\u001b[1;36m2014\u001b[0m\u001b[1;33m]\u001b[0m\u001b[1;33m[\u001b[0m\u001b[0mpub_id\u001b[0m\u001b[1;33m]\u001b[0m\u001b[1;33m\u001b[0m\u001b[1;33m\u001b[0m\u001b[0m\n",
      "\u001b[1;31mNameError\u001b[0m: name 'year_pmid_netid_d' is not defined"
     ]
    }
   ],
   "source": [
    "new_v1_199_netids = []\n",
    "new_v1_199_pubids_innet = []\n",
    "for pub_id in new_v1_199_pubids['id_list']:\n",
    "    if pub_id in year_pmid_netid_d[2014]:\n",
    "        new_v1_199_pubids_innet.append(pub_id)\n",
    "        net_id = year_pmid_netid_d[2014][pub_id]\n",
    "        if len(net_id) > 1:\n",
    "            print(net_id)\n",
    "        else:\n",
    "            net_id = net_id[0]\n",
    "            new_v1_199_netids.append(net_id)\n",
    "len(new_v1_199_netids)"
   ]
  },
  {
   "cell_type": "code",
   "execution_count": 17,
   "metadata": {},
   "outputs": [
    {
     "ename": "NameError",
     "evalue": "name 'year_topic_retrieved_THRESHOLD_d' is not defined",
     "output_type": "error",
     "traceback": [
      "\u001b[1;31m---------------------------------------------------------------------------\u001b[0m",
      "\u001b[1;31mNameError\u001b[0m                                 Traceback (most recent call last)",
      "\u001b[1;32m<ipython-input-17-5a57b65a3b75>\u001b[0m in \u001b[0;36m<module>\u001b[1;34m\u001b[0m\n\u001b[1;32m----> 1\u001b[1;33m \u001b[0mnew_v1_199_netids_relevantdocs\u001b[0m \u001b[1;33m=\u001b[0m \u001b[0mset\u001b[0m\u001b[1;33m(\u001b[0m\u001b[0myear_topic_retrieved_THRESHOLD_d\u001b[0m\u001b[1;33m[\u001b[0m\u001b[1;36m2014\u001b[0m\u001b[1;33m]\u001b[0m\u001b[1;33m[\u001b[0m\u001b[1;36m119\u001b[0m\u001b[1;33m]\u001b[0m\u001b[1;33m[\u001b[0m\u001b[1;34m'positives_retrieved_in_net'\u001b[0m\u001b[1;33m]\u001b[0m\u001b[1;33m)\u001b[0m\u001b[1;33m.\u001b[0m\u001b[0mintersection\u001b[0m\u001b[1;33m(\u001b[0m\u001b[0mset\u001b[0m\u001b[1;33m(\u001b[0m\u001b[0mnew_v1_199_netids\u001b[0m\u001b[1;33m)\u001b[0m\u001b[1;33m)\u001b[0m\u001b[1;33m\u001b[0m\u001b[1;33m\u001b[0m\u001b[0m\n\u001b[0m\u001b[0;32m      2\u001b[0m \u001b[0mlen\u001b[0m\u001b[1;33m(\u001b[0m\u001b[0mnew_v1_199_netids_relevantdocs\u001b[0m\u001b[1;33m)\u001b[0m\u001b[1;33m\u001b[0m\u001b[1;33m\u001b[0m\u001b[0m\n\u001b[0;32m      3\u001b[0m \u001b[1;33m\u001b[0m\u001b[0m\n\u001b[0;32m      4\u001b[0m \u001b[1;31m# It retrieved all the relvant documents that the last query retrieved!\u001b[0m\u001b[1;33m\u001b[0m\u001b[1;33m\u001b[0m\u001b[1;33m\u001b[0m\u001b[0m\n\u001b[0;32m      5\u001b[0m \u001b[1;31m# New presicion: 69/125 = 0.552\u001b[0m\u001b[1;33m\u001b[0m\u001b[1;33m\u001b[0m\u001b[1;33m\u001b[0m\u001b[0m\n",
      "\u001b[1;31mNameError\u001b[0m: name 'year_topic_retrieved_THRESHOLD_d' is not defined"
     ]
    }
   ],
   "source": [
    "new_v1_199_netids_relevantdocs = set(year_topic_retrieved_THRESHOLD_d[2014][119]['positives_retrieved_in_net']).intersection(set(new_v1_199_netids))\n",
    "len(new_v1_199_netids_relevantdocs)\n",
    "\n",
    "# It retrieved all the relvant documents that the last query retrieved!\n",
    "# New presicion: 69/125 = 0.552\n"
   ]
  },
  {
   "cell_type": "code",
   "execution_count": 18,
   "metadata": {},
   "outputs": [
    {
     "ename": "NameError",
     "evalue": "name 'year_pmid_netid_d' is not defined",
     "output_type": "error",
     "traceback": [
      "\u001b[1;31m---------------------------------------------------------------------------\u001b[0m",
      "\u001b[1;31mNameError\u001b[0m                                 Traceback (most recent call last)",
      "\u001b[1;32m<ipython-input-18-431afba8e701>\u001b[0m in \u001b[0;36m<module>\u001b[1;34m\u001b[0m\n\u001b[0;32m      2\u001b[0m \u001b[0mno_nearpatient_pubids_innet\u001b[0m \u001b[1;33m=\u001b[0m \u001b[1;33m[\u001b[0m\u001b[1;33m]\u001b[0m\u001b[1;33m\u001b[0m\u001b[1;33m\u001b[0m\u001b[0m\n\u001b[0;32m      3\u001b[0m \u001b[1;32mfor\u001b[0m \u001b[0mpub_id\u001b[0m \u001b[1;32min\u001b[0m \u001b[0mno_nearpatient_pubids\u001b[0m\u001b[1;33m[\u001b[0m\u001b[1;34m'id_list'\u001b[0m\u001b[1;33m]\u001b[0m\u001b[1;33m:\u001b[0m\u001b[1;33m\u001b[0m\u001b[1;33m\u001b[0m\u001b[0m\n\u001b[1;32m----> 4\u001b[1;33m     \u001b[1;32mif\u001b[0m \u001b[0mpub_id\u001b[0m \u001b[1;32min\u001b[0m \u001b[0myear_pmid_netid_d\u001b[0m\u001b[1;33m[\u001b[0m\u001b[1;36m2014\u001b[0m\u001b[1;33m]\u001b[0m\u001b[1;33m:\u001b[0m\u001b[1;33m\u001b[0m\u001b[1;33m\u001b[0m\u001b[0m\n\u001b[0m\u001b[0;32m      5\u001b[0m         \u001b[0mno_nearpatient_pubids_innet\u001b[0m\u001b[1;33m.\u001b[0m\u001b[0mappend\u001b[0m\u001b[1;33m(\u001b[0m\u001b[0mpub_id\u001b[0m\u001b[1;33m)\u001b[0m\u001b[1;33m\u001b[0m\u001b[1;33m\u001b[0m\u001b[0m\n\u001b[0;32m      6\u001b[0m         \u001b[0mnet_id\u001b[0m \u001b[1;33m=\u001b[0m \u001b[0myear_pmid_netid_d\u001b[0m\u001b[1;33m[\u001b[0m\u001b[1;36m2014\u001b[0m\u001b[1;33m]\u001b[0m\u001b[1;33m[\u001b[0m\u001b[0mpub_id\u001b[0m\u001b[1;33m]\u001b[0m\u001b[1;33m\u001b[0m\u001b[1;33m\u001b[0m\u001b[0m\n",
      "\u001b[1;31mNameError\u001b[0m: name 'year_pmid_netid_d' is not defined"
     ]
    }
   ],
   "source": [
    "no_nearpatient_netids = []\n",
    "no_nearpatient_pubids_innet = []\n",
    "for pub_id in no_nearpatient_pubids['id_list']:\n",
    "    if pub_id in year_pmid_netid_d[2014]:\n",
    "        no_nearpatient_pubids_innet.append(pub_id)\n",
    "        net_id = year_pmid_netid_d[2014][pub_id]\n",
    "        if len(net_id) > 1:\n",
    "            print(net_id)\n",
    "        else:\n",
    "            net_id = net_id[0]\n",
    "            no_nearpatient_netids.append(net_id)\n",
    "len(no_nearpatient_netids)\n",
    "# The near-patient makes a small difference when you filter by network, even as the near patient made a huge difference before!\n",
    "# Could it be that it is retrieving patient studies?"
   ]
  },
  {
   "cell_type": "code",
   "execution_count": 19,
   "metadata": {},
   "outputs": [
    {
     "ename": "NameError",
     "evalue": "name 'year_topic_retrieved_THRESHOLD_d' is not defined",
     "output_type": "error",
     "traceback": [
      "\u001b[1;31m---------------------------------------------------------------------------\u001b[0m",
      "\u001b[1;31mNameError\u001b[0m                                 Traceback (most recent call last)",
      "\u001b[1;32m<ipython-input-19-743fa866b8c8>\u001b[0m in \u001b[0;36m<module>\u001b[1;34m\u001b[0m\n\u001b[1;32m----> 1\u001b[1;33m \u001b[0mno_nearpatient_netids_relevantdocs\u001b[0m \u001b[1;33m=\u001b[0m \u001b[0mset\u001b[0m\u001b[1;33m(\u001b[0m\u001b[0myear_topic_retrieved_THRESHOLD_d\u001b[0m\u001b[1;33m[\u001b[0m\u001b[1;36m2014\u001b[0m\u001b[1;33m]\u001b[0m\u001b[1;33m[\u001b[0m\u001b[1;36m119\u001b[0m\u001b[1;33m]\u001b[0m\u001b[1;33m[\u001b[0m\u001b[1;34m'positives_retrieved_in_net'\u001b[0m\u001b[1;33m]\u001b[0m\u001b[1;33m)\u001b[0m\u001b[1;33m.\u001b[0m\u001b[0mintersection\u001b[0m\u001b[1;33m(\u001b[0m\u001b[0mset\u001b[0m\u001b[1;33m(\u001b[0m\u001b[0mno_nearpatient_netids\u001b[0m\u001b[1;33m)\u001b[0m\u001b[1;33m)\u001b[0m\u001b[1;33m\u001b[0m\u001b[1;33m\u001b[0m\u001b[0m\n\u001b[0m\u001b[0;32m      2\u001b[0m \u001b[0mlen\u001b[0m\u001b[1;33m(\u001b[0m\u001b[0mno_nearpatient_netids_relevantdocs\u001b[0m\u001b[1;33m)\u001b[0m\u001b[1;33m\u001b[0m\u001b[1;33m\u001b[0m\u001b[0m\n\u001b[0;32m      3\u001b[0m \u001b[1;33m\u001b[0m\u001b[0m\n\u001b[0;32m      4\u001b[0m \u001b[1;31m#The near-patient founds no relevant document!!!!\u001b[0m\u001b[1;33m\u001b[0m\u001b[1;33m\u001b[0m\u001b[1;33m\u001b[0m\u001b[0m\n",
      "\u001b[1;31mNameError\u001b[0m: name 'year_topic_retrieved_THRESHOLD_d' is not defined"
     ]
    }
   ],
   "source": [
    "no_nearpatient_netids_relevantdocs = set(year_topic_retrieved_THRESHOLD_d[2014][119]['positives_retrieved_in_net']).intersection(set(no_nearpatient_netids))\n",
    "len(no_nearpatient_netids_relevantdocs)\n",
    "\n",
    "#The near-patient founds no relevant document!!!!"
   ]
  },
  {
   "cell_type": "code",
   "execution_count": 20,
   "metadata": {},
   "outputs": [
    {
     "ename": "NameError",
     "evalue": "name 'year_topic_retrieved_THRESHOLD_d' is not defined",
     "output_type": "error",
     "traceback": [
      "\u001b[1;31m---------------------------------------------------------------------------\u001b[0m",
      "\u001b[1;31mNameError\u001b[0m                                 Traceback (most recent call last)",
      "\u001b[1;32m<ipython-input-20-faf338ae2095>\u001b[0m in \u001b[0;36m<module>\u001b[1;34m\u001b[0m\n\u001b[1;32m----> 1\u001b[1;33m \u001b[0mset\u001b[0m\u001b[1;33m(\u001b[0m\u001b[0myear_topic_retrieved_THRESHOLD_d\u001b[0m\u001b[1;33m[\u001b[0m\u001b[1;36m2014\u001b[0m\u001b[1;33m]\u001b[0m\u001b[1;33m[\u001b[0m\u001b[1;36m119\u001b[0m\u001b[1;33m]\u001b[0m\u001b[1;33m[\u001b[0m\u001b[1;34m'retrieved_in_net'\u001b[0m\u001b[1;33m]\u001b[0m\u001b[1;33m)\u001b[0m\u001b[1;33m.\u001b[0m\u001b[0mintersection\u001b[0m\u001b[1;33m(\u001b[0m\u001b[0mset\u001b[0m\u001b[1;33m(\u001b[0m\u001b[0mnew_v1_199_pubids\u001b[0m\u001b[1;33m)\u001b[0m\u001b[1;33m)\u001b[0m\u001b[1;33m\u001b[0m\u001b[1;33m\u001b[0m\u001b[0m\n\u001b[0m",
      "\u001b[1;31mNameError\u001b[0m: name 'year_topic_retrieved_THRESHOLD_d' is not defined"
     ]
    }
   ],
   "source": [
    "set(year_topic_retrieved_THRESHOLD_d[2014][119]['retrieved_in_net']).intersection(set(new_v1_199_pubids))"
   ]
  },
  {
   "cell_type": "code",
   "execution_count": 21,
   "metadata": {},
   "outputs": [
    {
     "ename": "NameError",
     "evalue": "name 'year_topic_retrieved_THRESHOLD_d' is not defined",
     "output_type": "error",
     "traceback": [
      "\u001b[1;31m---------------------------------------------------------------------------\u001b[0m",
      "\u001b[1;31mNameError\u001b[0m                                 Traceback (most recent call last)",
      "\u001b[1;32m<ipython-input-21-c953232d6347>\u001b[0m in \u001b[0;36m<module>\u001b[1;34m\u001b[0m\n\u001b[1;32m----> 1\u001b[1;33m \u001b[0myear_topic_retrieved_THRESHOLD_d\u001b[0m\u001b[1;33m[\u001b[0m\u001b[1;36m2014\u001b[0m\u001b[1;33m]\u001b[0m\u001b[1;33m[\u001b[0m\u001b[1;36m119\u001b[0m\u001b[1;33m]\u001b[0m\u001b[1;33m[\u001b[0m\u001b[1;34m'retrieved_in_net'\u001b[0m\u001b[1;33m]\u001b[0m\u001b[1;33m\u001b[0m\u001b[1;33m\u001b[0m\u001b[0m\n\u001b[0m",
      "\u001b[1;31mNameError\u001b[0m: name 'year_topic_retrieved_THRESHOLD_d' is not defined"
     ]
    }
   ],
   "source": [
    "year_topic_retrieved_THRESHOLD_d[2014][119]['retrieved_in_net']"
   ]
  },
  {
   "cell_type": "code",
   "execution_count": 22,
   "metadata": {},
   "outputs": [
    {
     "data": {
      "text/plain": [
       "0.5655737704918032"
      ]
     },
     "execution_count": 22,
     "metadata": {},
     "output_type": "execute_result"
    }
   ],
   "source": [
    "69/122"
   ]
  },
  {
   "cell_type": "code",
   "execution_count": 23,
   "metadata": {},
   "outputs": [],
   "source": [
    "# I created 2 dictionaries: one for the net_id and one for the pmid.\n",
    "\n",
    "def _Ref_Row_Clean(ref_row): # Indices based on the ref_head\n",
    "    ref_row_clean = []\n",
    "    for row in ref_row:\n",
    "        topic_year = int(row[4])\n",
    "        topic = int(row[3])\n",
    "        pmid = int(row[2])\n",
    "        net_id = int(row[5])\n",
    "        ref_row_clean.append([topic_year, topic, net_id, pmid])\n",
    "    return ref_row_clean\n",
    "ref_row_clean = _Ref_Row_Clean(ref_row)\n",
    "year_topic_netid_d = reading.parse_2_Level_D(ref_row_clean, i_lvl_1=0, i_lvl_2=1, i_lvl_3=2)\n",
    "year_topic_pmid_d = reading.parse_2_Level_D(ref_row_clean, i_lvl_1=0, i_lvl_2=1, i_lvl_3=3)"
   ]
  },
  {
   "cell_type": "code",
   "execution_count": 24,
   "metadata": {},
   "outputs": [
    {
     "data": {
      "text/plain": [
       "['network_id', 'pmid', 'pub_id', 'year']"
      ]
     },
     "execution_count": 24,
     "metadata": {},
     "output_type": "execute_result"
    }
   ],
   "source": [
    "# This is the union of the network_id of the 3 years networks. I use it to track which documents are in the network and what is their\n",
    "# net_id, pub_id and pmid\n",
    "\n",
    "union = reading.p_Tab_Delimited('PAPER2_netid_pmid_pubid_year_UNION.txt')\n",
    "union_head = union[0]\n",
    "union_row = union[1:]\n",
    "union_head"
   ]
  },
  {
   "cell_type": "code",
   "execution_count": 28,
   "metadata": {},
   "outputs": [],
   "source": [
    "def _Union_Row_Clean(union_row): # Indices based on the union_head\n",
    "    union_row_clean = []\n",
    "    for row in union_row:\n",
    "        year = int(row[3])\n",
    "        pmid = int(row[1])\n",
    "        network_id = int(row[0])\n",
    "        union_row_clean.append([year, pmid, network_id])\n",
    "    return union_row_clean\n",
    "\n",
    "def _Union_Row_Clean_Alternative(union_row): # Indices based on the union_head\n",
    "    union_row_clean = []\n",
    "    for row in union_row:\n",
    "        year = int(row[3])\n",
    "        pmid = int(row[1])\n",
    "        network_id = int(row[0])\n",
    "        union_row_clean.append([year, network_id, pmid])\n",
    "    return union_row_clean\n",
    "\n",
    "union_row_clean = _Union_Row_Clean(union_row)\n",
    "union_row_clean_alternative = _Union_Row_Clean_Alternative(union_row)\n",
    "year_pmid_netid_d = reading.parse_2_Level_D(union_row_clean)\n",
    "year_netid_pmid_d = reading.parse_2_Level_D(union_row_clean_alternative)\n"
   ]
  },
  {
   "cell_type": "code",
   "execution_count": 29,
   "metadata": {},
   "outputs": [],
   "source": [
    "f = open('year_netid_pmid_d.pickle', 'wb')\n",
    "pickle.dump(year_netid_pmid_d, f)\n",
    "f.close()"
   ]
  },
  {
   "cell_type": "code",
   "execution_count": 84,
   "metadata": {},
   "outputs": [],
   "source": [
    "#  The pmid -- network_id link is working\n",
    "year_pmid_netid_d_ref = {2014: {}, 2015: {}, 2016: {}}\n",
    "for row in ref_row_clean:\n",
    "    year_pmid_netid_d_ref[row[0]][row[3]] = row[2]\n",
    "for pmid in year_pmid_netid_d_ref[2014]:\n",
    "    if min(year_pmid_netid_d[2014][pmid]) != year_pmid_netid_d_ref[2014][pmid]:\n",
    "        print(pmid)"
   ]
  },
  {
   "cell_type": "code",
   "execution_count": null,
   "metadata": {},
   "outputs": [],
   "source": []
  },
  {
   "cell_type": "code",
   "execution_count": 85,
   "metadata": {},
   "outputs": [
    {
     "name": "stdout",
     "output_type": "stream",
     "text": [
      "162118\n",
      "108\n"
     ]
    }
   ],
   "source": [
    "# check if the retrieved pmid have more than one net_id. This can happen because some pub_id in Dimiensions have the same pmid.\n",
    "# also, analyse if this is really a problem\n",
    "# acording to the results, out of 162150, 108 had more than one pmid (all of them have 2, i checked). Therefore, it will not seriously affect my results\n",
    "# I will use only one net_id of this pmids. From the sql script for maping the relevant documents to the network, i know that, when 2 pub_ids have the same pmid,\n",
    "# It is usualy the lower pub_id that have more citation links. The lower pub_id is vaguely related to lower net_id, so i will choose the lower net_id\n",
    "\n",
    "\n",
    "total_retrieved = 0\n",
    "more_than_1_netid = 1\n",
    "for year in year_topic_netid_d:\n",
    "    for topic in year_topic_netid_d[year]:\n",
    "        if topic in connect_topics_d:\n",
    "            retrieved = connect_topics_d[topic]['id_list']\n",
    "            for pmid in retrieved:\n",
    "                if pmid in year_pmid_netid_d[year]:\n",
    "                    total_retrieved += 1\n",
    "                    netid_d = year_pmid_netid_d[year][pmid]\n",
    "                    if len(netid_d) > 1:\n",
    "                        more_than_1_netid += 1\n",
    "                        \n",
    "print(total_retrieved)\n",
    "print(more_than_1_netid)"
   ]
  },
  {
   "cell_type": "code",
   "execution_count": 86,
   "metadata": {},
   "outputs": [],
   "source": [
    "# This crosses the data from the boolean queries retrieved papers (which are in pmid format) with the data from the network.\n",
    "# It corsses the data year-wise, so depending on the year of the topic is the year of the network\n",
    "# It serves two purposes: To translate the retrieved papers to their net_id and to eliminate the retrieved papers that are not in the network.\n",
    "# This affects the presicion and recall values.\n",
    "# Also, by including only the relevant papers that were retrieved, the recall of the boolean queries become 1.0 by definition.\n",
    "\n",
    "year_topic_retrieved_d = {}\n",
    "for year in year_topic_netid_d:\n",
    "    year_topic_retrieved_d[year] = {}\n",
    "    for topic in year_topic_netid_d[year]:\n",
    "        if topic in connect_topics_d:\n",
    "            positives = year_topic_pmid_d[year][topic]\n",
    "            retrieved = connect_topics_d[topic]['id_list']\n",
    "            positives_retrieved_in_net = []\n",
    "            retrieved_in_net = []\n",
    "            for pmid in retrieved:\n",
    "                if pmid in year_pmid_netid_d[year]:\n",
    "                    netid_d = min(year_pmid_netid_d[year][pmid])\n",
    "                    retrieved_in_net.append(netid_d)\n",
    "                    if pmid in positives:\n",
    "                        positives_retrieved_in_net.append(netid_d)\n",
    "            year_topic_retrieved_d[year][topic] = {'retrieved_in_net': retrieved_in_net, 'positives_retrieved_in_net': positives_retrieved_in_net}"
   ]
  },
  {
   "cell_type": "code",
   "execution_count": 87,
   "metadata": {},
   "outputs": [],
   "source": [
    "# Because I removed the non-retrieved relevant papers, the number of relevant papers decreased. Therefore, I removed the topics that\n",
    "# had too few relevant papers (less than 10). Notice that before removing the papers, I selected only the topics that had 15 or more relevant\n",
    "# papers in the database. Therefore, this is a second filter. The first filter help me reduce the number of topics i had to translate to\n",
    "# boolean queries\n",
    "\n",
    "year_topic_retrieved_THRESHOLD_d = {}\n",
    "for year in year_topic_retrieved_d:\n",
    "    year_topic_retrieved_THRESHOLD_d[year] = {}\n",
    "    for topic in year_topic_retrieved_d[year]:\n",
    "        if len(year_topic_retrieved_d[year][topic]['positives_retrieved_in_net']) >= 10:\n",
    "            year_topic_retrieved_THRESHOLD_d[year][topic] = year_topic_retrieved_d[year][topic]"
   ]
  },
  {
   "cell_type": "code",
   "execution_count": null,
   "metadata": {},
   "outputs": [],
   "source": []
  },
  {
   "cell_type": "code",
   "execution_count": 88,
   "metadata": {},
   "outputs": [],
   "source": [
    "f = open('clean_ref.pickle', 'wb')\n",
    "pickle.dump(year_topic_retrieved_THRESHOLD_d, f)\n",
    "f.close()"
   ]
  },
  {
   "cell_type": "code",
   "execution_count": 90,
   "metadata": {},
   "outputs": [
    {
     "data": {
      "text/plain": [
       "125"
      ]
     },
     "execution_count": 90,
     "metadata": {},
     "output_type": "execute_result"
    }
   ],
   "source": [
    "len(year_topic_retrieved_THRESHOLD_d[2014][119]['retrieved_in_net'])"
   ]
  },
  {
   "cell_type": "code",
   "execution_count": null,
   "metadata": {},
   "outputs": [],
   "source": []
  }
 ],
 "metadata": {
  "kernelspec": {
   "display_name": "Python 3 (ipykernel)",
   "language": "python",
   "name": "python3"
  },
  "language_info": {
   "codemirror_mode": {
    "name": "ipython",
    "version": 3
   },
   "file_extension": ".py",
   "mimetype": "text/x-python",
   "name": "python",
   "nbconvert_exporter": "python",
   "pygments_lexer": "ipython3",
   "version": "3.8.12"
  }
 },
 "nbformat": 4,
 "nbformat_minor": 4
}
